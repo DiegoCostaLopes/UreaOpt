{
 "cells": [
  {
   "cell_type": "code",
   "execution_count": 1,
   "id": "2c6828c7",
   "metadata": {},
   "outputs": [],
   "source": [
    "import pandas as pd\n",
    "import numpy as np\n",
    "import os"
   ]
  },
  {
   "cell_type": "code",
   "execution_count": 2,
   "id": "b7c4d6b6",
   "metadata": {},
   "outputs": [],
   "source": [
    "def list_files(directory):\n",
    "    files = [f for f in os.listdir(directory)]\n",
    "    return files"
   ]
  },
  {
   "cell_type": "code",
   "execution_count": 3,
   "id": "8e30d7a2",
   "metadata": {},
   "outputs": [],
   "source": [
    "def get_dataframes(directory):\n",
    "    file_list = list_files(directory)\n",
    "    sheet_dict = {}\n",
    "    \n",
    "    for file_name in file_list:\n",
    "        path = f\"{directory}/{file_name}\"\n",
    "        \n",
    "        xl = pd.ExcelFile(path)\n",
    "        for sheet_name in xl.sheet_names:\n",
    "            df = xl.parse(sheet_name)\n",
    "            df[\"UF\"] = file_name.replace(\".xlsx\", \"\").split(\"-\")[-1].strip()\n",
    "            try:\n",
    "                sheet_dict[sheet_name].append(df)\n",
    "            except KeyError:\n",
    "                sheet_dict[sheet_name] = [df]\n",
    "                \n",
    "    if \"Notas\" in sheet_dict.keys():\n",
    "        del sheet_dict[\"Notas\"]\n",
    "        \n",
    "    return sheet_dict"
   ]
  },
  {
   "cell_type": "code",
   "execution_count": 4,
   "id": "6d8672ad",
   "metadata": {},
   "outputs": [],
   "source": [
    "def fix_df_structure(df):\n",
    "    df = df.copy()\n",
    "    df.iat[3, 0] = \"Local\"\n",
    "    df.iat[3, -1] = \"UF\"\n",
    "    df.columns = df.iloc[3]\n",
    "    df = df.iloc[4:-1]\n",
    "    df = df.reset_index(drop=True)\n",
    "    return df"
   ]
  },
  {
   "cell_type": "code",
   "execution_count": 5,
   "id": "3f76d720",
   "metadata": {},
   "outputs": [],
   "source": [
    "def get_region_type(name):\n",
    "    if type(name) != str:\n",
    "        print(\"nome erro:\", name)\n",
    "    if name.startswith(\"      \"):\n",
    "        return \"Município\"\n",
    "    elif name.startswith(\"    \"):\n",
    "        return \"Microrregião\"\n",
    "    elif name.startswith(\"  \"):\n",
    "        return \"Mesorregião\"\n",
    "    else:\n",
    "        return \"UF\""
   ]
  },
  {
   "cell_type": "code",
   "execution_count": 6,
   "id": "553670f1",
   "metadata": {},
   "outputs": [],
   "source": [
    "def add_region(row):\n",
    "    local = row[\"Local\"]\n",
    "    region_type = get_region_type(local)\n",
    "    \n",
    "    row[\"Local\"] = row[\"Local\"].strip()\n",
    "    row[\"Tipo região\"] = region_type\n",
    "    return row"
   ]
  },
  {
   "cell_type": "code",
   "execution_count": 7,
   "id": "cf24bcea",
   "metadata": {},
   "outputs": [],
   "source": [
    "def convert_to_number(row):\n",
    "    numeric_columns = [\"Área destinada à colheita (Hectares)\",\n",
    "                       \"Área colhida (Hectares)\",\n",
    "                       \"Quantidade produzida (Toneladas)\",\n",
    "                       \"Rendimento médio da produção (Quilogramas por Hectare)\",\n",
    "                       \"Valor da produção (Mil Reais)\"\n",
    "                      ]\n",
    "    \n",
    "    for col in numeric_columns:\n",
    "        try:\n",
    "            row[col] = float(row[col])\n",
    "        except ValueError:\n",
    "            row[col] = 0\n",
    "    \n",
    "    return row"
   ]
  },
  {
   "cell_type": "code",
   "execution_count": 8,
   "id": "fd15f655",
   "metadata": {},
   "outputs": [],
   "source": [
    "def update_df(df):\n",
    "    df = fix_df_structure(df)\n",
    "    df = df.apply(add_region, axis=1)\n",
    "    df = df.apply(convert_to_number, axis=1)\n",
    "    return df"
   ]
  },
  {
   "cell_type": "code",
   "execution_count": 9,
   "id": "e8e8b12c",
   "metadata": {},
   "outputs": [],
   "source": [
    "def join_dataframes(directory):\n",
    "    sheet_dict = get_dataframes(directory)\n",
    "    progress = 0\n",
    "    for sheet_name, df_list in sheet_dict.items():\n",
    "        progress += 1\n",
    "        print(100*progress/len(sheet_dict.values()), \"%\")\n",
    "        for idx, df in enumerate(df_list):\n",
    "            df_list[idx] = update_df(df)\n",
    "            \n",
    "        sheet_dict[sheet_name] = pd.concat(df_list, ignore_index=True)\n",
    "    \n",
    "    return sheet_dict"
   ]
  },
  {
   "cell_type": "code",
   "execution_count": 10,
   "id": "3f53e588",
   "metadata": {},
   "outputs": [],
   "source": [
    "def save_data(new_directory, sheet_dict):\n",
    "    for sheet_name, df in sheet_dict.items():\n",
    "        file_name = sheet_name.split(\";\")[-1].strip()\n",
    "        file_name = file_name.replace(\"*\", \"\")\n",
    "        path = f\"{new_directory}/{file_name}.xlsx\"\n",
    "        df.to_excel(path, index=False)"
   ]
  },
  {
   "cell_type": "code",
   "execution_count": 11,
   "id": "dadbce63",
   "metadata": {},
   "outputs": [
    {
     "name": "stdout",
     "output_type": "stream",
     "text": [
      "2.5641025641025643 %\n",
      "5.128205128205129 %\n",
      "7.6923076923076925 %\n",
      "10.256410256410257 %\n",
      "12.820512820512821 %\n",
      "15.384615384615385 %\n",
      "17.94871794871795 %\n",
      "20.512820512820515 %\n",
      "23.076923076923077 %\n",
      "25.641025641025642 %\n",
      "28.205128205128204 %\n",
      "30.76923076923077 %\n",
      "33.333333333333336 %\n",
      "35.8974358974359 %\n",
      "38.46153846153846 %\n",
      "41.02564102564103 %\n",
      "43.58974358974359 %\n",
      "46.15384615384615 %\n",
      "48.717948717948715 %\n",
      "51.282051282051285 %\n",
      "53.84615384615385 %\n",
      "56.41025641025641 %\n",
      "58.97435897435897 %\n",
      "61.53846153846154 %\n",
      "64.1025641025641 %\n",
      "66.66666666666667 %\n",
      "69.23076923076923 %\n",
      "71.7948717948718 %\n",
      "74.35897435897436 %\n",
      "76.92307692307692 %\n",
      "79.48717948717949 %\n",
      "82.05128205128206 %\n",
      "84.61538461538461 %\n",
      "87.17948717948718 %\n",
      "89.74358974358974 %\n",
      "92.3076923076923 %\n",
      "94.87179487179488 %\n",
      "97.43589743589743 %\n",
      "100.0 %\n"
     ]
    }
   ],
   "source": [
    "sheet_dict = join_dataframes(\"Permanentes_bruto\")"
   ]
  },
  {
   "cell_type": "code",
   "execution_count": 12,
   "id": "0e2e4ae7",
   "metadata": {},
   "outputs": [],
   "source": [
    "save_data(\"Permanentes_novo\", sheet_dict)"
   ]
  },
  {
   "cell_type": "code",
   "execution_count": null,
   "id": "dcdd741d",
   "metadata": {},
   "outputs": [],
   "source": []
  }
 ],
 "metadata": {
  "kernelspec": {
   "display_name": "Python 3 (ipykernel)",
   "language": "python",
   "name": "python3"
  },
  "language_info": {
   "codemirror_mode": {
    "name": "ipython",
    "version": 3
   },
   "file_extension": ".py",
   "mimetype": "text/x-python",
   "name": "python",
   "nbconvert_exporter": "python",
   "pygments_lexer": "ipython3",
   "version": "3.12.6"
  }
 },
 "nbformat": 4,
 "nbformat_minor": 5
}
