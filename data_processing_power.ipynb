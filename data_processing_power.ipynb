{
 "cells": [
  {
   "cell_type": "code",
   "execution_count": 87,
   "metadata": {},
   "outputs": [],
   "source": [
    "import pandas as pd\n",
    "from unidecode import unidecode\n",
    "import numpy as np\n",
    "import os"
   ]
  },
  {
   "cell_type": "code",
   "execution_count": 88,
   "metadata": {},
   "outputs": [],
   "source": [
    "df = pd.DataFrame()\n",
    "cols = ['DIST', 'MUN']\n",
    "for chunk in pd.read_csv('data/raw/power/UCBT_PJ.csv', sep=';', engine='python', on_bad_lines='warn', encoding_errors='ignore', chunksize=100000):\n",
    "    i = i + 1\n",
    "    # chunk.to_parquet('data/processed/parquet/chunk'+str(i)+'.parquet')\n",
    "    df = pd.concat([df, chunk[cols]], axis=0)\n",
    "\n",
    "\n",
    "df = df.groupby('MUN').agg(pd.Series.mode).reset_index().rename(columns={'DIST': 'id_dist', 'MUN': 'id_city'})"
   ]
  },
  {
   "cell_type": "code",
   "execution_count": 89,
   "metadata": {},
   "outputs": [],
   "source": [
    "cols = ['name', 'friendly_name', 'UF', 'id_dist']\n",
    "df_dist = pd.read_excel('data/raw/power/AreaatuadistbaseBI.xlsx').rename(columns={'Código do Agente': 'id_dist', 'SIGLA': 'name'})[cols].set_index('id_dist')"
   ]
  },
  {
   "cell_type": "code",
   "execution_count": 90,
   "metadata": {},
   "outputs": [],
   "source": [
    "df = pd.merge(df, df_dist, on='id_dist')\n"
   ]
  },
  {
   "cell_type": "code",
   "execution_count": 91,
   "metadata": {},
   "outputs": [
    {
     "name": "stderr",
     "output_type": "stream",
     "text": [
      "/home/diego/Projects/UreaOpt/.venv/lib/python3.12/site-packages/openpyxl/styles/stylesheet.py:237: UserWarning: Workbook contains no default style, apply openpyxl's default\n",
      "  warn(\"Workbook contains no default style, apply openpyxl's default\")\n"
     ]
    }
   ],
   "source": [
    "df_price = pd.read_excel('data/raw/power/data_tariffs.xlsx')\n",
    "df_price = df_price.loc[(df_price['Subgrupo'] == 'A4') & \n",
    "                        (df_price['Modalidade'] == 'Verde') & \n",
    "                        (df_price['Base Tarifária'] == 'Tarifa de Aplicação') &\n",
    "                        (df_price['Detalhe'] == 'Não se aplica') &\n",
    "                        (df_price['Posto'] != 'Não se aplica')]\n",
    "\n",
    "df_price['Início Vigência'] = pd.to_datetime(df_price['Início Vigência'])\n",
    "\n",
    "# df_price.groupby(['Posto']).agg(list)\n",
    "# df_price['TUSD', 'TE'].pivot_table()"
   ]
  },
  {
   "cell_type": "code",
   "execution_count": 92,
   "metadata": {},
   "outputs": [],
   "source": [
    "dist_list = df_price['Sigla'].unique()\n",
    "new_df_price = pd.DataFrame(index=df_price['Sigla'].unique(), columns=['TUSD_Ponta', 'TUSD_Fora Ponta'])\n",
    "\n",
    "for dist in dist_list:\n",
    "    new_df_price.loc[dist, 'TUSD_Ponta'] = df_price['TUSD'].loc[(df_price['Sigla'] == dist) &\n",
    "                                                    (df_price['Posto'] == 'Ponta')].max()\n",
    "    new_df_price.loc[dist, 'TUSD_ForaPonta'] = df_price['TUSD'].loc[(df_price['Sigla'] == dist) &\n",
    "                                                    (df_price['Posto'] == 'Fora ponta')].max()\n",
    "    new_df_price.loc[dist, 'TE_Ponta'] = df_price['TE'].loc[(df_price['Sigla'] == dist) &\n",
    "                                                (df_price['Posto'] == 'Fora ponta')].max()\n",
    "    new_df_price.loc[dist, 'TE_ForaPonta'] = df_price['TE'].loc[(df_price['Sigla'] == dist) &\n",
    "                                                (df_price['Posto'] == 'Fora ponta')].max()\n",
    "\n",
    "new_df_price['TUSD'] = (new_df_price['TUSD_ForaPonta']*21 + new_df_price['TUSD_Ponta']*3) / 24\n",
    "new_df_price['TE'] = (new_df_price['TE_ForaPonta']*21 + new_df_price['TE_Ponta']*3) / 24\n",
    "new_df_price['grid_price'] = new_df_price['TE'] + new_df_price['TUSD']\n",
    "new_df_price['friendly_name'] = new_df_price.index\n"
   ]
  },
  {
   "cell_type": "code",
   "execution_count": 93,
   "metadata": {},
   "outputs": [],
   "source": [
    "# more fancy way of doing the above, but way too complicated with the several dates on prices.\n",
    "\n",
    "# df = df_price.pivot(index='Sigla', columns='Posto', values=['TE', 'TUSD'])\n",
    "# df['TE', 'Liq'] = (df['TE', 'Ponta']*3 + df['TE', 'Fora ponta']*21)/24\n",
    "# df['TUSD', 'Liq'] = (df['TUSD', 'Ponta']*3 + df['TUSD', 'Fora ponta']*21)/24\n",
    "# df['grid_price'] = df['TE', 'Liq'] + df['TUSD', 'Liq'] "
   ]
  },
  {
   "cell_type": "code",
   "execution_count": 94,
   "metadata": {},
   "outputs": [],
   "source": [
    "cols = ['grid_price', 'id_dist', 'UF', 'friendly_name']\n",
    "df = pd.merge(df, new_df_price, on='friendly_name').set_index('id_city')"
   ]
  },
  {
   "cell_type": "code",
   "execution_count": 95,
   "metadata": {},
   "outputs": [],
   "source": [
    "df = df[cols]\n"
   ]
  },
  {
   "cell_type": "code",
   "execution_count": 96,
   "metadata": {},
   "outputs": [],
   "source": [
    "df.to_pickle('data/processed/power_grid_prices.p')"
   ]
  }
 ],
 "metadata": {
  "kernelspec": {
   "display_name": ".venv",
   "language": "python",
   "name": "python3"
  },
  "language_info": {
   "codemirror_mode": {
    "name": "ipython",
    "version": 3
   },
   "file_extension": ".py",
   "mimetype": "text/x-python",
   "name": "python",
   "nbconvert_exporter": "python",
   "pygments_lexer": "ipython3",
   "version": "3.12.6"
  }
 },
 "nbformat": 4,
 "nbformat_minor": 2
}
